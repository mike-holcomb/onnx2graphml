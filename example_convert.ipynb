{
 "cells": [
  {
   "cell_type": "code",
   "execution_count": 86,
   "metadata": {},
   "outputs": [
    {
     "name": "stderr",
     "output_type": "stream",
     "text": [
      "IOPub data rate exceeded.\n",
      "The notebook server will temporarily stop sending output\n",
      "to the client in order to avoid crashing it.\n",
      "To change this limit, set the config variable\n",
      "`--NotebookApp.iopub_data_rate_limit`.\n",
      "\n",
      "Current values:\n",
      "NotebookApp.iopub_data_rate_limit=1000000.0 (bytes/sec)\n",
      "NotebookApp.rate_limit_window=3.0 (secs)\n",
      "\n"
     ]
    }
   ],
   "source": [
    "from __future__ import absolute_import\n",
    "from __future__ import division\n",
    "from __future__ import print_function\n",
    "from __future__ import unicode_literals\n",
    "\n",
    "import onnx\n",
    "import os\n",
    "\n",
    "# Preprocessing: load the ONNX model\n",
    "model_path = './lenet.onnx'\n",
    "onnx_model = onnx.load(model_path)\n",
    "\n",
    "print('The model is:\\n{}'.format(onnx_model))"
   ]
  },
  {
   "cell_type": "code",
   "execution_count": 87,
   "metadata": {},
   "outputs": [
    {
     "data": {
      "text/plain": [
       "onnx.onnx_ONNX_REL_1_4_ml_pb2.ModelProto"
      ]
     },
     "execution_count": 87,
     "metadata": {},
     "output_type": "execute_result"
    }
   ],
   "source": [
    "type(onnx_model)"
   ]
  },
  {
   "cell_type": "code",
   "execution_count": 3,
   "metadata": {},
   "outputs": [],
   "source": [
    "import networkx as nx\n",
    "from typing import Text, Sequence, Any, Optional, Dict, Union, TypeVar, Callable, Tuple, List, cast"
   ]
  },
  {
   "cell_type": "code",
   "execution_count": 89,
   "metadata": {},
   "outputs": [],
   "source": [
    "def _sanitize_str(s):  # type: (Union[Text, bytes]) -> Text\n",
    "    if isinstance(s, text_type):\n",
    "        sanitized = s\n",
    "    elif isinstance(s, binary_type):\n",
    "        sanitized = s.decode('utf-8', errors='ignore')\n",
    "    else:\n",
    "        sanitized = str(s)\n",
    "    if len(sanitized) < 64:\n",
    "        return sanitized\n",
    "    else:\n",
    "        return sanitized[:64] + '...<+len=%d>' % (len(sanitized) - 64)"
   ]
  },
  {
   "cell_type": "code",
   "execution_count": 90,
   "metadata": {},
   "outputs": [],
   "source": [
    "def networkxable_attribute(attr, subgraphs=False):  # type: (AttributeProto, bool) -> Union[Text, Tuple[Text, List[GraphProto]]]\n",
    "    key = attr.name\n",
    "    value = []\n",
    "\n",
    "    def str_float(f):  # type: (float) -> Text\n",
    "        # NB: Different Python versions print different numbers of trailing\n",
    "        # decimals, specifying this explicitly keeps it consistent for all\n",
    "        # versions\n",
    "        return '{:.15g}'.format(f)\n",
    "\n",
    "    def str_int(i):  # type: (int) -> Text\n",
    "        # NB: In Python 2, longs will repr() as '2L', which is ugly and\n",
    "        # unnecessary.  Explicitly format it to keep it consistent.\n",
    "        return '{:d}'.format(i)\n",
    "\n",
    "    def str_str(s):  # type: (Text) -> Text\n",
    "        return repr(s)\n",
    "\n",
    "    _T = TypeVar('_T')  # noqa\n",
    "\n",
    "    def str_list(str_elem, xs):  # type: (Callable[[_T], Text], Sequence[_T]) -> Text\n",
    "        return '[' + ', '.join(map(str_elem, xs)) + ']'\n",
    "\n",
    "    # for now, this logic should continue to work as long as we are running on a proto3\n",
    "    # implementation. If/when we switch to proto3, we will need to use attr.type\n",
    "\n",
    "    # To support printing subgraphs, if we find a graph attribute, print out\n",
    "    # its name here and pass the graph itself up to the caller for later\n",
    "    # printing.\n",
    "\n",
    "    if attr.HasField(\"f\"):\n",
    "        value.append(str_float(attr.f))\n",
    "    elif attr.HasField(\"i\"):\n",
    "        value.append(str_int(attr.i))\n",
    "    elif attr.HasField(\"s\"):\n",
    "        # TODO: Bit nervous about Python 2 / Python 3 determinism implications\n",
    "        value.append(repr(_sanitize_str(attr.s)))\n",
    "    elif attr.HasField(\"t\"):\n",
    "        if len(attr.t.dims) > 0:\n",
    "            value.append(\"<Tensor>\")\n",
    "        else:\n",
    "            # special case to print scalars\n",
    "            field = STORAGE_TENSOR_TYPE_TO_FIELD[attr.t.data_type]\n",
    "            value.append('<Scalar Tensor {}>'.format(str(getattr(attr.t, field))))\n",
    "#     elif attr.HasField(\"g\"):\n",
    "#         value.append(\"<graph {}>\".format(attr.g.name))\n",
    "#         graphs.append(attr.g)\n",
    "    elif attr.floats:\n",
    "        value.append(str_list(str_float, attr.floats))\n",
    "    elif attr.ints:\n",
    "        value.append(str_list(str_int, attr.ints))\n",
    "    elif attr.strings:\n",
    "        # TODO: Bit nervous about Python 2 / Python 3 determinism implications\n",
    "        value.append(str(list(map(_sanitize_str, attr.strings))))\n",
    "    elif attr.tensors:\n",
    "        value.append(\"[<Tensor>, ...]\")\n",
    "        \n",
    "#     elif attr.graphs:\n",
    "#         content.append('[')\n",
    "#         for i, g in enumerate(attr.graphs):\n",
    "#             comma = ',' if i != len(attr.graphs) - 1 else ''\n",
    "#             content.append('<graph {}>{}'.format(g.name, comma))\n",
    "#         content.append(']')\n",
    "#         graphs.extend(attr.graphs)\n",
    "    else:\n",
    "        value.append(\"<Unknown>\")\n",
    "#     if subgraphs:\n",
    "#         return ' '.join(value), graphs\n",
    "#     else:\n",
    "    return key, ' '.join(value)"
   ]
  },
  {
   "cell_type": "code",
   "execution_count": 91,
   "metadata": {},
   "outputs": [],
   "source": [
    "def networkxable_node(node, prefix='', subgraphs=False):  # type: (NodeProto, Text, bool) -> Union[Text, Tuple[Text, List[GraphProto]]]\n",
    "    '''\n",
    "    Adapted from onnx.helper.printable_graph()\n",
    "    https://github.com/onnx/onnx/blob/dd599b05f424eb161a31f3e059566a33310dbe5e/onnx/helper.py#L455\n",
    "    '''\n",
    "#     content = []\n",
    "#     if len(node.output):\n",
    "#         content.append(\n",
    "#             ', '.join(['%{}'.format(name) for name in node.output]))\n",
    "#         content.append('=')\n",
    "#     # To deal with nested graphs\n",
    "#     graphs = []  # type: List[GraphProto]\n",
    "    \n",
    "    attrs = {}\n",
    "    for attr in node.attribute:\n",
    "#         if subgraphs:\n",
    "#             printed_attr, gs = printable_attribute(attr, subgraphs)\n",
    "#             assert isinstance(gs, list)\n",
    "#             graphs.extend(gs)\n",
    "#             printed_attrs.append(printed_attr)\n",
    "#         else:\n",
    "        k, v = networkxable_attribute(attr)\n",
    "        assert isinstance(v, Text)\n",
    "        attrs[k] = v\n",
    "        \n",
    "    attrs['op_type'] = node.op_type\n",
    "            \n",
    "#     printed_attributes = ', '.join(sorted(printed_attrs))\n",
    "#     printed_inputs = ', '.join(['%{}'.format(name) for name in node.input])\n",
    "    \n",
    "#     if node.attribute:\n",
    "#         content.append(\"{}[{}]({})\".format(node.op_type, printed_attributes, printed_inputs))\n",
    "#     else:\n",
    "#         content.append(\"{}({})\".format(node.op_type, printed_inputs))\n",
    "    \n",
    "#     if subgraphs:\n",
    "#         return prefix + ' '.join(content), graphs\n",
    "#     else:\n",
    "    return node.name, attrs\n"
   ]
  },
  {
   "cell_type": "code",
   "execution_count": 92,
   "metadata": {},
   "outputs": [],
   "source": [
    "def networkxable_graph(graph, prefix=''):  # type: (GraphProto, Text) -> Text\n",
    "    '''\n",
    "    Adapted from onnx.helper.printable_graph()\n",
    "    https://github.com/onnx/onnx/blob/dd599b05f424eb161a31f3e059566a33310dbe5e/onnx/helper.py#L486\n",
    "    '''\n",
    "    DG = nx.DiGraph(name=graph.name)\n",
    "    initialized = {t.name for t in graph.initializer}\n",
    "    \n",
    "    if len(graph.input):\n",
    "        in_strs = []\n",
    "        init_strs = []\n",
    "        for inp in graph.input:\n",
    "            if inp.name not in initialized:\n",
    "                DG.add_node(inp.name)\n",
    "#             else:\n",
    "#                 DG.add_node(inp.name)\n",
    "#         if in_strs:\n",
    "#             content.append(prefix + ' '.join(header))\n",
    "#             header = []\n",
    "#             for line in in_strs:\n",
    "#                 content.append(prefix + '  ' + line)\n",
    "#         header.append(\")\")\n",
    "\n",
    "#         if init_strs:\n",
    "#             header.append(\"initializers (\")\n",
    "#             content.append(prefix + ' '.join(header))\n",
    "#             header = []\n",
    "#             for line in init_strs:\n",
    "#                 content.append(prefix + '  ' + line)\n",
    "#             header.append(\")\")\n",
    "\n",
    "#     header.append('{')\n",
    "#     content.append(prefix + ' '.join(header))\n",
    "#     graphs = []  # type: List[GraphProto]\n",
    "#     # body\n",
    "    \n",
    "    # ADD NODES\n",
    "    for node in graph.node:\n",
    "        nname, nattrs = networkxable_node(node)\n",
    "        DG.add_node(nname, **nattrs)\n",
    "        \n",
    "    # ADD EDGES\n",
    "    for node in graph.node:\n",
    "        for innode in node.input:\n",
    "            if innode not in initialized:\n",
    "                DG.add_edge(innode, node.name)\n",
    "        \n",
    "    \n",
    "#         content.append(pn)\n",
    "#         graphs.extend(gs)\n",
    "#     # tail\n",
    "#     tail = ['return']\n",
    "#     if len(graph.output):\n",
    "#         tail.append(\n",
    "#             ', '.join(['%{}'.format(out.name) for out in graph.output]))\n",
    "#     content.append(indent + ' '.join(tail))\n",
    "#     # closing bracket\n",
    "#     content.append(prefix + '}')\n",
    "#     for g in graphs:\n",
    "#         DG.append('\\n' + printable_graph(g))\n",
    "    return DG"
   ]
  },
  {
   "cell_type": "code",
   "execution_count": 93,
   "metadata": {},
   "outputs": [
    {
     "data": {
      "text/plain": [
       "<networkx.classes.digraph.DiGraph at 0x1143d7f90>"
      ]
     },
     "execution_count": 93,
     "metadata": {},
     "output_type": "execute_result"
    }
   ],
   "source": [
    "g = networkxable_graph(onnx_model.graph)\n",
    "g"
   ]
  },
  {
   "cell_type": "code",
   "execution_count": 94,
   "metadata": {},
   "outputs": [
    {
     "data": {
      "image/png": "[encoded data removed]",
      "text/plain": [
       "<Figure size 432x288 with 1 Axes>"
      ]
     },
     "metadata": {},
     "output_type": "display_data"
    }
   ],
   "source": [
    "nx.draw(g, with_labels=True, font_weight='bold')"
   ]
  },
  {
   "cell_type": "code",
   "execution_count": 22,
   "metadata": {},
   "outputs": [],
   "source": [
    "import matplotlib as plt\n",
    "%matplotlib inline"
   ]
  },
  {
   "cell_type": "code",
   "execution_count": 98,
   "metadata": {},
   "outputs": [
    {
     "data": {
      "text/plain": [
       "u'MaxPool'"
      ]
     },
     "execution_count": 98,
     "metadata": {},
     "output_type": "execute_result"
    }
   ],
   "source": [
    "g.nodes['LeNet_pool0_fwd']['op_type']"
   ]
  },
  {
   "cell_type": "code",
   "execution_count": 95,
   "metadata": {},
   "outputs": [],
   "source": [
    "nx.write_graphml(g, \"lenet.graphml\")"
   ]
  },
  {
   "cell_type": "code",
   "execution_count": 1,
   "metadata": {},
   "outputs": [],
   "source": [
    "from onnx2graphml import convert"
   ]
  },
  {
   "cell_type": "code",
   "execution_count": 2,
   "metadata": {},
   "outputs": [],
   "source": [
    "convert.convert('lenet.onnx','lenet2.graphml')"
   ]
  },
  {
   "cell_type": "code",
   "execution_count": 4,
   "metadata": {},
   "outputs": [],
   "source": [
    "g2 = nx.read_graphml('lenet2.graphml')"
   ]
  },
  {
   "cell_type": "code",
   "execution_count": 8,
   "metadata": {},
   "outputs": [
    {
     "data": {
      "image/png": "[encoded data removed]",
      "text/plain": [
       "<Figure size 432x288 with 1 Axes>"
      ]
     },
     "metadata": {},
     "output_type": "display_data"
    }
   ],
   "source": [
    "nx.draw(g2, with_labels=True, font_weight='bold')"
   ]
  },
  {
   "cell_type": "code",
   "execution_count": 6,
   "metadata": {},
   "outputs": [],
   "source": [
    "import matplotlib as plt\n",
    "%matplotlib inline"
   ]
  },
  {
   "cell_type": "code",
   "execution_count": null,
   "metadata": {},
   "outputs": [],
   "source": []
  }
 ],
 "metadata": {
  "kernelspec": {
   "display_name": "Python 2",
   "language": "python",
   "name": "python2"
  },
  "language_info": {
   "codemirror_mode": {
    "name": "ipython",
    "version": 2
   },
   "file_extension": ".py",
   "mimetype": "text/x-python",
   "name": "python",
   "nbconvert_exporter": "python",
   "pygments_lexer": "ipython2",
   "version": "2.7.16"
  }
 },
 "nbformat": 4,
 "nbformat_minor": 2
}
